{
 "cells": [
  {
   "cell_type": "markdown",
   "id": "N2vFmKXiVQOB",
   "metadata": {
    "id": "N2vFmKXiVQOB"
   },
   "source": [
    "**How this will work** <br>\n",
    "\n",
    "This how you would create samples.pickle \n",
    "\n",
    "\n",
    "1.   A user will provide a hypothesis and a document and the model will then infer if there is any clause in the document that support, contradict or not mentioned(neutral) the hypothesis\n",
    "2.   Model will be batch trained. Each batch will represent one document and one hypothesis. \n",
    "> Note that in a document there can be 100's of clauses but just one or two clause may support or contradict the hypothesis. This implies over 90% of clauses will be neutral to the hypothesis. This makes data highly imbalanced <br>\n",
    "> I have a parameter max_neutral that controles how many neutral cases we want to add\n",
    "\n",
    "\n",
    "\n",
    "\n"
   ]
  },
  {
   "cell_type": "code",
   "execution_count": 1,
   "id": "f6b4c6fb-90dd-4293-beb6-4a95261aaa2f",
   "metadata": {},
   "outputs": [
    {
     "name": "stdout",
     "output_type": "stream",
     "text": [
      "Collecting libarchive\n",
      "  Downloading libarchive-0.4.7.tar.gz (23 kB)\n",
      "  Preparing metadata (setup.py): started\n",
      "  Preparing metadata (setup.py): finished with status 'done'\n",
      "Collecting nose\n",
      "  Downloading nose-1.3.7-py3-none-any.whl (154 kB)\n",
      "     -------------------------------------- 154.7/154.7 kB 3.1 MB/s eta 0:00:00\n",
      "Building wheels for collected packages: libarchive\n",
      "  Building wheel for libarchive (setup.py): started\n",
      "  Building wheel for libarchive (setup.py): finished with status 'error'\n",
      "  Running setup.py clean for libarchive\n",
      "Failed to build libarchive\n",
      "Installing collected packages: nose, libarchive\n",
      "  Running setup.py install for libarchive: started\n",
      "  Running setup.py install for libarchive: finished with status 'error'\n"
     ]
    },
    {
     "name": "stderr",
     "output_type": "stream",
     "text": [
      "  error: subprocess-exited-with-error\n",
      "  \n",
      "  python setup.py bdist_wheel did not run successfully.\n",
      "  exit code: 1\n",
      "  \n",
      "  [88 lines of output]\n",
      "  running bdist_wheel\n",
      "  running build\n",
      "  running build_py\n",
      "  creating build\n",
      "  creating build\\lib\n",
      "  creating build\\lib\\libarchive\n",
      "  copying libarchive\\exception.py -> build\\lib\\libarchive\n",
      "  copying libarchive\\library.py -> build\\lib\\libarchive\n",
      "  copying libarchive\\log.py -> build\\lib\\libarchive\n",
      "  copying libarchive\\public.py -> build\\lib\\libarchive\n",
      "  copying libarchive\\test_support.py -> build\\lib\\libarchive\n",
      "  copying libarchive\\__init__.py -> build\\lib\\libarchive\n",
      "  creating build\\lib\\libarchive\\adapters\n",
      "  copying libarchive\\adapters\\archive_entry.py -> build\\lib\\libarchive\\adapters\n",
      "  copying libarchive\\adapters\\archive_read.py -> build\\lib\\libarchive\\adapters\n",
      "  copying libarchive\\adapters\\archive_read_append_filter.py -> build\\lib\\libarchive\\adapters\n",
      "  copying libarchive\\adapters\\archive_read_set_format.py -> build\\lib\\libarchive\\adapters\n",
      "  copying libarchive\\adapters\\archive_read_support_filter_all.py -> build\\lib\\libarchive\\adapters\n",
      "  copying libarchive\\adapters\\archive_read_support_format_all.py -> build\\lib\\libarchive\\adapters\n",
      "  copying libarchive\\adapters\\archive_write.py -> build\\lib\\libarchive\\adapters\n",
      "  copying libarchive\\adapters\\archive_write_add_filter.py -> build\\lib\\libarchive\\adapters\n",
      "  copying libarchive\\adapters\\archive_write_set_format.py -> build\\lib\\libarchive\\adapters\n",
      "  copying libarchive\\adapters\\__init__.py -> build\\lib\\libarchive\\adapters\n",
      "  creating build\\lib\\libarchive\\calls\n",
      "  copying libarchive\\calls\\archive_entry.py -> build\\lib\\libarchive\\calls\n",
      "  copying libarchive\\calls\\archive_general.py -> build\\lib\\libarchive\\calls\n",
      "  copying libarchive\\calls\\archive_read.py -> build\\lib\\libarchive\\calls\n",
      "  copying libarchive\\calls\\archive_read_append_filter.py -> build\\lib\\libarchive\\calls\n",
      "  copying libarchive\\calls\\archive_read_set_format.py -> build\\lib\\libarchive\\calls\n",
      "  copying libarchive\\calls\\archive_read_support_filter_all.py -> build\\lib\\libarchive\\calls\n",
      "  copying libarchive\\calls\\archive_read_support_format_all.py -> build\\lib\\libarchive\\calls\n",
      "  copying libarchive\\calls\\archive_write.py -> build\\lib\\libarchive\\calls\n",
      "  copying libarchive\\calls\\archive_write_add_filter.py -> build\\lib\\libarchive\\calls\n",
      "  copying libarchive\\calls\\archive_write_set_format.py -> build\\lib\\libarchive\\calls\n",
      "  copying libarchive\\calls\\__init__.py -> build\\lib\\libarchive\\calls\n",
      "  creating build\\lib\\libarchive\\constants\n",
      "  copying libarchive\\constants\\archive.py -> build\\lib\\libarchive\\constants\n",
      "  copying libarchive\\constants\\archive_entry.py -> build\\lib\\libarchive\\constants\n",
      "  copying libarchive\\constants\\__init__.py -> build\\lib\\libarchive\\constants\n",
      "  creating build\\lib\\libarchive\\types\n",
      "  copying libarchive\\types\\archive.py -> build\\lib\\libarchive\\types\n",
      "  copying libarchive\\types\\archive_entry.py -> build\\lib\\libarchive\\types\n",
      "  copying libarchive\\types\\__init__.py -> build\\lib\\libarchive\\types\n",
      "  running egg_info\n",
      "  writing libarchive.egg-info\\PKG-INFO\n",
      "  writing dependency_links to libarchive.egg-info\\dependency_links.txt\n",
      "  writing requirements to libarchive.egg-info\\requires.txt\n",
      "  writing top-level names to libarchive.egg-info\\top_level.txt\n",
      "  reading manifest file 'libarchive.egg-info\\SOURCES.txt'\n",
      "  reading manifest template 'MANIFEST.in'\n",
      "  adding license file 'LICENSE'\n",
      "  writing manifest file 'libarchive.egg-info\\SOURCES.txt'\n",
      "  C:\\Users\\sanje\\anaconda3\\envs\\deep\\lib\\site-packages\\setuptools\\command\\build_py.py:153: SetuptoolsDeprecationWarning:     Installing 'libarchive.resources' as data is deprecated, please list it in `packages`.\n",
      "      !!\n",
      "  \n",
      "  \n",
      "      ############################\n",
      "      # Package would be ignored #\n",
      "      ############################\n",
      "      Python recognizes 'libarchive.resources' as an importable package,\n",
      "      but it is not listed in the `packages` configuration of setuptools.\n",
      "  \n",
      "      'libarchive.resources' has been automatically added to the distribution only\n",
      "      because it may contain data files, but this behavior is likely to change\n",
      "      in future versions of setuptools (and therefore is considered deprecated).\n",
      "  \n",
      "      Please make sure that 'libarchive.resources' is included as a package by using\n",
      "      the `packages` configuration field or the proper discovery methods\n",
      "      (for example by using `find_namespace_packages(...)`/`find_namespace:`\n",
      "      instead of `find_packages(...)`/`find:`).\n",
      "  \n",
      "      You can read more about \"package discovery\" and \"data files\" on setuptools\n",
      "      documentation page.\n",
      "  \n",
      "  \n",
      "  !!\n",
      "  \n",
      "    check.warn(importable)\n",
      "  creating build\\lib\\libarchive\\resources\n",
      "  copying libarchive\\resources\\README.rst -> build\\lib\\libarchive\\resources\n",
      "  copying libarchive\\resources\\requirements.txt -> build\\lib\\libarchive\\resources\n",
      "  C:\\Users\\sanje\\anaconda3\\envs\\deep\\lib\\site-packages\\setuptools\\command\\install.py:34: SetuptoolsDeprecationWarning: setup.py install is deprecated. Use build and pip and other standards-based tools.\n",
      "    warnings.warn(\n",
      "  installing to build\\bdist.win-amd64\\wheel\n",
      "  running install\n",
      "  error: Could not find module 'libarchive.so' (or one of its dependencies). Try using the full path with constructor syntax.\n",
      "  Verifying that the library is accessible.\n",
      "  Library can not be loaded: Could not find module 'libarchive.so' (or one of its dependencies). Try using the full path with constructor syntax.\n",
      "  [end of output]\n",
      "  \n",
      "  note: This error originates from a subprocess, and is likely not a problem with pip.\n",
      "  ERROR: Failed building wheel for libarchive\n",
      "  error: subprocess-exited-with-error\n",
      "  \n",
      "  Running setup.py install for libarchive did not run successfully.\n",
      "  exit code: 1\n",
      "  \n",
      "  [6 lines of output]\n",
      "  running install\n",
      "  C:\\Users\\sanje\\anaconda3\\envs\\deep\\lib\\site-packages\\setuptools\\command\\install.py:34: SetuptoolsDeprecationWarning: setup.py install is deprecated. Use build and pip and other standards-based tools.\n",
      "    warnings.warn(\n",
      "  error: Could not find module 'libarchive.so' (or one of its dependencies). Try using the full path with constructor syntax.\n",
      "  Verifying that the library is accessible.\n",
      "  Library can not be loaded: Could not find module 'libarchive.so' (or one of its dependencies). Try using the full path with constructor syntax.\n",
      "  [end of output]\n",
      "  \n",
      "  note: This error originates from a subprocess, and is likely not a problem with pip.\n",
      "error: legacy-install-failure\n",
      "\n",
      "Encountered error while trying to install package.\n",
      "\n",
      "libarchive\n",
      "\n",
      "note: This is an issue with the package mentioned above, not pip.\n",
      "hint: See above for output from the failure.\n"
     ]
    }
   ],
   "source": [
    "!pip install -U libarchive"
   ]
  },
  {
   "cell_type": "code",
   "execution_count": 2,
   "id": "de69bac3-13be-47e3-8aaa-4301588e1e46",
   "metadata": {},
   "outputs": [],
   "source": [
    "%load_ext autoreload\n",
    "%autoreload 2"
   ]
  },
  {
   "cell_type": "code",
   "execution_count": 3,
   "id": "mYR7dxPyg2VR",
   "metadata": {
    "colab": {
     "base_uri": "https://localhost:8080/"
    },
    "executionInfo": {
     "elapsed": 31925,
     "status": "ok",
     "timestamp": 1668739494770,
     "user": {
      "displayName": "Sanjeev Singh Kenwar",
      "userId": "00714071671360104547"
     },
     "user_tz": 300
    },
    "id": "mYR7dxPyg2VR",
    "outputId": "a8677490-aa89-4d98-a822-d78b919ba650"
   },
   "outputs": [
    {
     "name": "stdout",
     "output_type": "stream",
     "text": [
      "Requirement already satisfied: torch in /home/sanjeev/anaconda3/envs/deep37/lib/python3.7/site-packages (1.13.0)\n",
      "Requirement already satisfied: nvidia-cuda-nvrtc-cu11==11.7.99 in /home/sanjeev/anaconda3/envs/deep37/lib/python3.7/site-packages (from torch) (11.7.99)\n",
      "Requirement already satisfied: typing-extensions in /home/sanjeev/anaconda3/envs/deep37/lib/python3.7/site-packages (from torch) (4.4.0)\n",
      "Requirement already satisfied: nvidia-cudnn-cu11==8.5.0.96 in /home/sanjeev/anaconda3/envs/deep37/lib/python3.7/site-packages (from torch) (8.5.0.96)\n",
      "Requirement already satisfied: nvidia-cublas-cu11==11.10.3.66 in /home/sanjeev/anaconda3/envs/deep37/lib/python3.7/site-packages (from torch) (11.10.3.66)\n",
      "Requirement already satisfied: nvidia-cuda-runtime-cu11==11.7.99 in /home/sanjeev/anaconda3/envs/deep37/lib/python3.7/site-packages (from torch) (11.7.99)\n",
      "Requirement already satisfied: wheel in /home/sanjeev/anaconda3/envs/deep37/lib/python3.7/site-packages (from nvidia-cublas-cu11==11.10.3.66->torch) (0.37.1)\n",
      "Requirement already satisfied: setuptools in /home/sanjeev/anaconda3/envs/deep37/lib/python3.7/site-packages (from nvidia-cublas-cu11==11.10.3.66->torch) (65.5.0)\n",
      "Requirement already satisfied: sentence-transformers in /home/sanjeev/anaconda3/envs/deep37/lib/python3.7/site-packages (2.2.2)\n",
      "Requirement already satisfied: sentencepiece in /home/sanjeev/anaconda3/envs/deep37/lib/python3.7/site-packages (from sentence-transformers) (0.1.97)\n",
      "Requirement already satisfied: scikit-learn in /home/sanjeev/anaconda3/envs/deep37/lib/python3.7/site-packages (from sentence-transformers) (1.0.2)\n",
      "Requirement already satisfied: scipy in /home/sanjeev/anaconda3/envs/deep37/lib/python3.7/site-packages (from sentence-transformers) (1.7.3)\n",
      "Requirement already satisfied: transformers<5.0.0,>=4.6.0 in /home/sanjeev/anaconda3/envs/deep37/lib/python3.7/site-packages (from sentence-transformers) (4.24.0)\n",
      "Requirement already satisfied: torchvision in /home/sanjeev/anaconda3/envs/deep37/lib/python3.7/site-packages (from sentence-transformers) (0.14.0)\n",
      "Requirement already satisfied: nltk in /home/sanjeev/anaconda3/envs/deep37/lib/python3.7/site-packages (from sentence-transformers) (3.7)\n",
      "Requirement already satisfied: huggingface-hub>=0.4.0 in /home/sanjeev/anaconda3/envs/deep37/lib/python3.7/site-packages (from sentence-transformers) (0.11.0)\n",
      "Requirement already satisfied: numpy in /home/sanjeev/anaconda3/envs/deep37/lib/python3.7/site-packages (from sentence-transformers) (1.21.6)\n",
      "Requirement already satisfied: tqdm in /home/sanjeev/anaconda3/envs/deep37/lib/python3.7/site-packages (from sentence-transformers) (4.64.1)\n",
      "Requirement already satisfied: torch>=1.6.0 in /home/sanjeev/anaconda3/envs/deep37/lib/python3.7/site-packages (from sentence-transformers) (1.13.0)\n",
      "Requirement already satisfied: pyyaml>=5.1 in /home/sanjeev/anaconda3/envs/deep37/lib/python3.7/site-packages (from huggingface-hub>=0.4.0->sentence-transformers) (6.0)\n",
      "Requirement already satisfied: typing-extensions>=3.7.4.3 in /home/sanjeev/anaconda3/envs/deep37/lib/python3.7/site-packages (from huggingface-hub>=0.4.0->sentence-transformers) (4.4.0)\n",
      "Requirement already satisfied: requests in /home/sanjeev/anaconda3/envs/deep37/lib/python3.7/site-packages (from huggingface-hub>=0.4.0->sentence-transformers) (2.28.1)\n",
      "Requirement already satisfied: packaging>=20.9 in /home/sanjeev/anaconda3/envs/deep37/lib/python3.7/site-packages (from huggingface-hub>=0.4.0->sentence-transformers) (21.3)\n",
      "Requirement already satisfied: filelock in /home/sanjeev/anaconda3/envs/deep37/lib/python3.7/site-packages (from huggingface-hub>=0.4.0->sentence-transformers) (3.8.0)\n",
      "Requirement already satisfied: importlib-metadata in /home/sanjeev/anaconda3/envs/deep37/lib/python3.7/site-packages (from huggingface-hub>=0.4.0->sentence-transformers) (4.11.4)\n",
      "Requirement already satisfied: nvidia-cublas-cu11==11.10.3.66 in /home/sanjeev/anaconda3/envs/deep37/lib/python3.7/site-packages (from torch>=1.6.0->sentence-transformers) (11.10.3.66)\n",
      "Requirement already satisfied: nvidia-cuda-runtime-cu11==11.7.99 in /home/sanjeev/anaconda3/envs/deep37/lib/python3.7/site-packages (from torch>=1.6.0->sentence-transformers) (11.7.99)\n",
      "Requirement already satisfied: nvidia-cuda-nvrtc-cu11==11.7.99 in /home/sanjeev/anaconda3/envs/deep37/lib/python3.7/site-packages (from torch>=1.6.0->sentence-transformers) (11.7.99)\n",
      "Requirement already satisfied: nvidia-cudnn-cu11==8.5.0.96 in /home/sanjeev/anaconda3/envs/deep37/lib/python3.7/site-packages (from torch>=1.6.0->sentence-transformers) (8.5.0.96)\n",
      "Requirement already satisfied: setuptools in /home/sanjeev/anaconda3/envs/deep37/lib/python3.7/site-packages (from nvidia-cublas-cu11==11.10.3.66->torch>=1.6.0->sentence-transformers) (65.5.0)\n",
      "Requirement already satisfied: wheel in /home/sanjeev/anaconda3/envs/deep37/lib/python3.7/site-packages (from nvidia-cublas-cu11==11.10.3.66->torch>=1.6.0->sentence-transformers) (0.37.1)\n",
      "Requirement already satisfied: regex!=2019.12.17 in /home/sanjeev/anaconda3/envs/deep37/lib/python3.7/site-packages (from transformers<5.0.0,>=4.6.0->sentence-transformers) (2022.10.31)\n",
      "Requirement already satisfied: tokenizers!=0.11.3,<0.14,>=0.11.1 in /home/sanjeev/anaconda3/envs/deep37/lib/python3.7/site-packages (from transformers<5.0.0,>=4.6.0->sentence-transformers) (0.13.2)\n",
      "Requirement already satisfied: joblib in /home/sanjeev/anaconda3/envs/deep37/lib/python3.7/site-packages (from nltk->sentence-transformers) (1.2.0)\n",
      "Requirement already satisfied: click in /home/sanjeev/anaconda3/envs/deep37/lib/python3.7/site-packages (from nltk->sentence-transformers) (8.1.3)\n",
      "Requirement already satisfied: threadpoolctl>=2.0.0 in /home/sanjeev/anaconda3/envs/deep37/lib/python3.7/site-packages (from scikit-learn->sentence-transformers) (3.1.0)\n",
      "Requirement already satisfied: pillow!=8.3.*,>=5.3.0 in /home/sanjeev/anaconda3/envs/deep37/lib/python3.7/site-packages (from torchvision->sentence-transformers) (9.3.0)\n",
      "Requirement already satisfied: pyparsing!=3.0.5,>=2.0.2 in /home/sanjeev/anaconda3/envs/deep37/lib/python3.7/site-packages (from packaging>=20.9->huggingface-hub>=0.4.0->sentence-transformers) (3.0.9)\n",
      "Requirement already satisfied: zipp>=0.5 in /home/sanjeev/anaconda3/envs/deep37/lib/python3.7/site-packages (from importlib-metadata->huggingface-hub>=0.4.0->sentence-transformers) (3.10.0)\n",
      "Requirement already satisfied: certifi>=2017.4.17 in /home/sanjeev/anaconda3/envs/deep37/lib/python3.7/site-packages (from requests->huggingface-hub>=0.4.0->sentence-transformers) (2022.9.24)\n",
      "Requirement already satisfied: idna<4,>=2.5 in /home/sanjeev/anaconda3/envs/deep37/lib/python3.7/site-packages (from requests->huggingface-hub>=0.4.0->sentence-transformers) (3.4)\n",
      "Requirement already satisfied: charset-normalizer<3,>=2 in /home/sanjeev/anaconda3/envs/deep37/lib/python3.7/site-packages (from requests->huggingface-hub>=0.4.0->sentence-transformers) (2.1.1)\n",
      "Requirement already satisfied: urllib3<1.27,>=1.21.1 in /home/sanjeev/anaconda3/envs/deep37/lib/python3.7/site-packages (from requests->huggingface-hub>=0.4.0->sentence-transformers) (1.26.12)\n",
      "Requirement already satisfied: faiss in /home/sanjeev/anaconda3/envs/deep37/lib/python3.7/site-packages (1.7.3)\n",
      "Requirement already satisfied: numpy in /home/sanjeev/anaconda3/envs/deep37/lib/python3.7/site-packages (from faiss) (1.21.6)\n",
      "Requirement already satisfied: transformers in /home/sanjeev/anaconda3/envs/deep37/lib/python3.7/site-packages (4.24.0)\n",
      "Requirement already satisfied: packaging>=20.0 in /home/sanjeev/anaconda3/envs/deep37/lib/python3.7/site-packages (from transformers) (21.3)\n",
      "Requirement already satisfied: importlib-metadata in /home/sanjeev/anaconda3/envs/deep37/lib/python3.7/site-packages (from transformers) (4.11.4)\n",
      "Requirement already satisfied: tokenizers!=0.11.3,<0.14,>=0.11.1 in /home/sanjeev/anaconda3/envs/deep37/lib/python3.7/site-packages (from transformers) (0.13.2)\n",
      "Requirement already satisfied: tqdm>=4.27 in /home/sanjeev/anaconda3/envs/deep37/lib/python3.7/site-packages (from transformers) (4.64.1)\n",
      "Requirement already satisfied: huggingface-hub<1.0,>=0.10.0 in /home/sanjeev/anaconda3/envs/deep37/lib/python3.7/site-packages (from transformers) (0.11.0)\n",
      "Requirement already satisfied: requests in /home/sanjeev/anaconda3/envs/deep37/lib/python3.7/site-packages (from transformers) (2.28.1)\n",
      "Requirement already satisfied: filelock in /home/sanjeev/anaconda3/envs/deep37/lib/python3.7/site-packages (from transformers) (3.8.0)\n",
      "Requirement already satisfied: pyyaml>=5.1 in /home/sanjeev/anaconda3/envs/deep37/lib/python3.7/site-packages (from transformers) (6.0)\n",
      "Requirement already satisfied: regex!=2019.12.17 in /home/sanjeev/anaconda3/envs/deep37/lib/python3.7/site-packages (from transformers) (2022.10.31)\n",
      "Requirement already satisfied: numpy>=1.17 in /home/sanjeev/anaconda3/envs/deep37/lib/python3.7/site-packages (from transformers) (1.21.6)\n",
      "Requirement already satisfied: typing-extensions>=3.7.4.3 in /home/sanjeev/anaconda3/envs/deep37/lib/python3.7/site-packages (from huggingface-hub<1.0,>=0.10.0->transformers) (4.4.0)\n",
      "Requirement already satisfied: pyparsing!=3.0.5,>=2.0.2 in /home/sanjeev/anaconda3/envs/deep37/lib/python3.7/site-packages (from packaging>=20.0->transformers) (3.0.9)\n",
      "Requirement already satisfied: zipp>=0.5 in /home/sanjeev/anaconda3/envs/deep37/lib/python3.7/site-packages (from importlib-metadata->transformers) (3.10.0)\n",
      "Requirement already satisfied: idna<4,>=2.5 in /home/sanjeev/anaconda3/envs/deep37/lib/python3.7/site-packages (from requests->transformers) (3.4)\n",
      "Requirement already satisfied: urllib3<1.27,>=1.21.1 in /home/sanjeev/anaconda3/envs/deep37/lib/python3.7/site-packages (from requests->transformers) (1.26.12)\n",
      "Requirement already satisfied: certifi>=2017.4.17 in /home/sanjeev/anaconda3/envs/deep37/lib/python3.7/site-packages (from requests->transformers) (2022.9.24)\n",
      "Requirement already satisfied: charset-normalizer<3,>=2 in /home/sanjeev/anaconda3/envs/deep37/lib/python3.7/site-packages (from requests->transformers) (2.1.1)\n",
      "Requirement already satisfied: pandas in /home/sanjeev/anaconda3/envs/deep37/lib/python3.7/site-packages (1.3.5)\n",
      "Requirement already satisfied: pytz>=2017.3 in /home/sanjeev/anaconda3/envs/deep37/lib/python3.7/site-packages (from pandas) (2022.6)\n",
      "Requirement already satisfied: numpy>=1.17.3 in /home/sanjeev/anaconda3/envs/deep37/lib/python3.7/site-packages (from pandas) (1.21.6)\n",
      "Requirement already satisfied: python-dateutil>=2.7.3 in /home/sanjeev/anaconda3/envs/deep37/lib/python3.7/site-packages (from pandas) (2.8.2)\n",
      "Requirement already satisfied: six>=1.5 in /home/sanjeev/anaconda3/envs/deep37/lib/python3.7/site-packages (from python-dateutil>=2.7.3->pandas) (1.16.0)\n",
      "\u001b[33mWARNING: Retrying (Retry(total=4, connect=None, read=None, redirect=None, status=None)) after connection broken by 'NewConnectionError('<pip._vendor.urllib3.connection.HTTPSConnection object at 0x7fa1bbb5b390>: Failed to establish a new connection: [Errno -3] Temporary failure in name resolution')': /simple/matplotlin/\u001b[0m\u001b[33m\n",
      "\u001b[0m\u001b[33mWARNING: Retrying (Retry(total=3, connect=None, read=None, redirect=None, status=None)) after connection broken by 'NewConnectionError('<pip._vendor.urllib3.connection.HTTPSConnection object at 0x7fa1bbb5b810>: Failed to establish a new connection: [Errno -3] Temporary failure in name resolution')': /simple/matplotlin/\u001b[0m\u001b[33m\n",
      "\u001b[0m\u001b[33mWARNING: Retrying (Retry(total=2, connect=None, read=None, redirect=None, status=None)) after connection broken by 'NewConnectionError('<pip._vendor.urllib3.connection.HTTPSConnection object at 0x7fa1bbb5bad0>: Failed to establish a new connection: [Errno -3] Temporary failure in name resolution')': /simple/matplotlin/\u001b[0m\u001b[33m\n",
      "\u001b[0m\u001b[33mWARNING: Retrying (Retry(total=1, connect=None, read=None, redirect=None, status=None)) after connection broken by 'NewConnectionError('<pip._vendor.urllib3.connection.HTTPSConnection object at 0x7fa1bbb5be10>: Failed to establish a new connection: [Errno -3] Temporary failure in name resolution')': /simple/matplotlin/\u001b[0m\u001b[33m\n",
      "\u001b[0m\u001b[33mWARNING: Retrying (Retry(total=0, connect=None, read=None, redirect=None, status=None)) after connection broken by 'NewConnectionError('<pip._vendor.urllib3.connection.HTTPSConnection object at 0x7fa1bbaf5190>: Failed to establish a new connection: [Errno -3] Temporary failure in name resolution')': /simple/matplotlin/\u001b[0m\u001b[33m\n",
      "\u001b[0m\u001b[31mERROR: Could not find a version that satisfies the requirement matplotlin (from versions: none)\u001b[0m\u001b[31m\n",
      "\u001b[0m\u001b[31mERROR: No matching distribution found for matplotlin\u001b[0m\u001b[31m\n",
      "\u001b[0m"
     ]
    }
   ],
   "source": [
    "!pip install torch\n",
    "!pip install sentence-transformers\n",
    "#!pip install pdf_struct\n",
    "!pip install faiss\n",
    "!pip install transformers\n",
    "!pip install pandas\n",
    "#!pip install matplotlin"
   ]
  },
  {
   "cell_type": "code",
   "execution_count": 4,
   "id": "8-XJP1t2tF-y",
   "metadata": {
    "executionInfo": {
     "elapsed": 7732,
     "status": "ok",
     "timestamp": 1668739502487,
     "user": {
      "displayName": "Sanjeev Singh Kenwar",
      "userId": "00714071671360104547"
     },
     "user_tz": 300
    },
    "id": "8-XJP1t2tF-y"
   },
   "outputs": [
    {
     "name": "stderr",
     "output_type": "stream",
     "text": [
      "/home/sanjeev/anaconda3/envs/deep37/lib/python3.7/site-packages/tqdm/auto.py:22: TqdmWarning: IProgress not found. Please update jupyter and ipywidgets. See https://ipywidgets.readthedocs.io/en/stable/user_install.html\n",
      "  from .autonotebook import tqdm as notebook_tqdm\n"
     ]
    }
   ],
   "source": [
    "import json\n",
    "import pickle\n",
    "import pandas as pd\n",
    "import re \n",
    "import transformers\n",
    "import torch\n",
    "import numpy as np\n",
    "#from torchtext.data import get_tokenizer\n",
    "#from transformers import BertTokenizer, BertModel, BertConfig\n",
    "#from torch.utils.data import Dataset, DataLoader\n",
    "\n",
    "\n",
    "\n",
    "\n",
    "\n",
    "from sklearn.metrics import pairwise\n",
    "\n",
    "d=768 # Do not change\n",
    "\n"
   ]
  },
  {
   "cell_type": "code",
   "execution_count": 9,
   "id": "zOkA6YSRVAz-",
   "metadata": {
    "executionInfo": {
     "elapsed": 7,
     "status": "ok",
     "timestamp": 1668739504087,
     "user": {
      "displayName": "Sanjeev Singh Kenwar",
      "userId": "00714071671360104547"
     },
     "user_tz": 300
    },
    "id": "zOkA6YSRVAz-"
   },
   "outputs": [],
   "source": [
    "import json\n",
    "f = open('train.json')  \n",
    "data = json.load(f)\n",
    "f.close()\n",
    "\n",
    "flnmidx={}\n",
    "for dcl in range(len(data['documents'])):\n",
    "    flnmidx[data['documents'][dcl]['file_name']]= dcl\n",
    "lbl={}\n",
    "kes =[]\n",
    "for ke in data['labels']:\n",
    "    lbl[ke]= data['labels'][ke]['hypothesis']\n",
    "    kes.append(ke)\n",
    "kes=['nda-11', 'nda-16', 'nda-15', 'nda-10', 'nda-2', 'nda-1', 'nda-19', 'nda-12', 'nda-20', 'nda-3', 'nda-18', 'nda-7', 'nda-17', 'nda-8', 'nda-13', 'nda-5', 'nda-4']\n",
    "xs= list(flnmidx.keys())"
   ]
  },
  {
   "cell_type": "code",
   "execution_count": 25,
   "id": "e98c4f3b",
   "metadata": {},
   "outputs": [],
   "source": [
    "import json\n",
    "f = open('train.json')  \n",
    "json1 = json.load(f)\n",
    "f.close()\n",
    "#def spntm(json1, x,ke,flnmidx,labels,k=15): #x is filename\n",
    "def sentem(json1, x,premise=True):\n",
    "    span_nbr, sentences_contract , contract_embeddings = funct.sent_embs(x,json1, 'nda-16',premise)\n",
    "    return [x, span_nbr, contract_embeddings]"
   ]
  },
  {
   "cell_type": "code",
   "execution_count": 41,
   "id": "b9f7749a",
   "metadata": {},
   "outputs": [
    {
     "name": "stdout",
     "output_type": "stream",
     "text": [
      "CPU times: user 2min 59s, sys: 5.29 s, total: 3min 4s\n",
      "Wall time: 19.4 s\n"
     ]
    }
   ],
   "source": [
    "%%time\n",
    "import numpy as np\n",
    "from joblib import Parallel, delayed\n",
    "\n",
    "import funct\n",
    "output = Parallel(n_jobs= 1)(delayed(sentem) (json1, x,True)  for x in xs[:2])"
   ]
  },
  {
   "cell_type": "code",
   "execution_count": null,
   "id": "IJ2v0q5Go-t9",
   "metadata": {
    "executionInfo": {
     "elapsed": 230,
     "status": "ok",
     "timestamp": 1668740280938,
     "user": {
      "displayName": "Sanjeev Singh Kenwar",
      "userId": "00714071671360104547"
     },
     "user_tz": 300
    },
    "id": "IJ2v0q5Go-t9"
   },
   "outputs": [],
   "source": [
    "import pickle\n",
    "with open('samples.pickle', 'wb') as handle:\n",
    "    pickle.dump(output, handle, protocol=pickle.HIGHEST_PROTOCOL)"
   ]
  },
  {
   "cell_type": "code",
   "execution_count": null,
   "id": "ezJXzidUraAv",
   "metadata": {
    "colab": {
     "base_uri": "https://localhost:8080/",
     "height": 35
    },
    "executionInfo": {
     "elapsed": 287,
     "status": "ok",
     "timestamp": 1668740293499,
     "user": {
      "displayName": "Sanjeev Singh Kenwar",
      "userId": "00714071671360104547"
     },
     "user_tz": 300
    },
    "id": "ezJXzidUraAv",
    "outputId": "96f0d111-e706-40df-a80f-ca2e5bd856d9"
   },
   "outputs": [],
   "source": [
    "'''\n",
    "print(lbl[ke])\n",
    "for pm in ad[ad.choice !='Neutral'][\"premise\"].values:\n",
    "  print(\"I am looking for : \",pm)\n",
    "  i=0\n",
    "  for sc in hits:\n",
    "    if pm==sc:      \n",
    "      print (i, I[0][i], sc)\n",
    "    i=i+1\n",
    "'''\n"
   ]
  }
 ],
 "metadata": {
  "colab": {
   "provenance": []
  },
  "gpuClass": "standard",
  "kernelspec": {
   "display_name": "Python 3 (ipykernel)",
   "language": "python",
   "name": "python3"
  },
  "language_info": {
   "codemirror_mode": {
    "name": "ipython",
    "version": 3
   },
   "file_extension": ".py",
   "mimetype": "text/x-python",
   "name": "python",
   "nbconvert_exporter": "python",
   "pygments_lexer": "ipython3",
   "version": "3.9.13"
  }
 },
 "nbformat": 4,
 "nbformat_minor": 5
}
